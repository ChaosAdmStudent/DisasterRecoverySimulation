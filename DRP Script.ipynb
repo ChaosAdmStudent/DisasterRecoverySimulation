{
 "cells": [
  {
   "cell_type": "markdown",
   "metadata": {},
   "source": [
    "## Making User Accounts "
   ]
  },
  {
   "cell_type": "code",
   "execution_count": 4,
   "metadata": {},
   "outputs": [],
   "source": [
    "import pymysql \n",
    "\n",
    "conn1 = pymysql.connect(host='127.0.0.1',port=3306,user='root',passwd='Lakshyavit_12', db='db')\n",
    "cursor1 = conn1.cursor()  \n",
    "\n",
    "conn2 = pymysql.connect(host='127.0.0.1',port=3306,user='root',passwd='Lakshyavit_12', db='backupdb') \n",
    "cursor2 = conn2.cursor() \n"
   ]
  },
  {
   "cell_type": "code",
   "execution_count": 5,
   "metadata": {},
   "outputs": [],
   "source": [
    "import bankSystem \n",
    "\n",
    "bankClient = bankSystem.Bank(conn1, cursor1, 'mainbank')\n",
    "backupClient = bankSystem.Bank(conn2, cursor2, 'backupbank')"
   ]
  },
  {
   "cell_type": "code",
   "execution_count": 6,
   "metadata": {},
   "outputs": [
    {
     "name": "stdout",
     "output_type": "stream",
     "text": [
      "Your account was successfully made! \n",
      "Your account was successfully made! \n",
      "Your account was successfully made! \n"
     ]
    }
   ],
   "source": [
    "#Make Account\n",
    "bankClient.make_account(0, 'Lakshya', 8000) \n",
    "bankClient.make_account(1, 'Anannya', 6000) \n",
    "bankClient.make_account(2, 'Abhimanyu', 5500) "
   ]
  },
  {
   "cell_type": "code",
   "execution_count": 4,
   "metadata": {},
   "outputs": [
    {
     "name": "stdout",
     "output_type": "stream",
     "text": [
      "(0, 'Lakshya', 8000, 'No')\n",
      "(1, 'Anannya', 6000, 'No')\n",
      "(2, 'Abhimanyu', 5500, 'No')\n"
     ]
    }
   ],
   "source": [
    "# Show Accounts \n",
    "print(bankClient.get_account(0))\n",
    "print(bankClient.get_account(1))\n",
    "print(bankClient.get_account(2))"
   ]
  },
  {
   "cell_type": "markdown",
   "metadata": {},
   "source": [
    "## Transfer Funds (Timestamping Service)"
   ]
  },
  {
   "cell_type": "code",
   "execution_count": 5,
   "metadata": {},
   "outputs": [],
   "source": [
    "def transfer_money(): \n",
    "    \n",
    "    sender = int(input('Please enter ID of sender: ')) \n",
    "    receiver = int(input('Please enter ID of receiver: ')) \n",
    "    amount = int(input('Please enter amount to be sent: '))\n",
    "    transferClient = bankSystem.TransferMoney(conn1, cursor1, sender, receiver, amount)\n",
    "    transferClient.transfer()"
   ]
  },
  {
   "cell_type": "code",
   "execution_count": 6,
   "metadata": {},
   "outputs": [
    {
     "name": "stdout",
     "output_type": "stream",
     "text": [
      "Lakshya sent money at: 2021-12-05 17:06:31\n",
      "Anannya received money from Lakshya at: 2021-12-05 17:06:33\n",
      "Successful transfer\n"
     ]
    }
   ],
   "source": [
    "transfer_money() "
   ]
  },
  {
   "cell_type": "markdown",
   "metadata": {},
   "source": [
    "### Looking at the logs table"
   ]
  },
  {
   "cell_type": "code",
   "execution_count": 7,
   "metadata": {},
   "outputs": [
    {
     "name": "stdout",
     "output_type": "stream",
     "text": [
      "+----------+------------+---------------------+---------------------+\n",
      "| Sender   | Receiver   | T_Start             | T_End               |\n",
      "+==========+============+=====================+=====================+\n",
      "| Lakshya  | Anannya    | 2021-12-05 17:06:31 | 2021-12-05 17:06:33 |\n",
      "+----------+------------+---------------------+---------------------+\n",
      "\n"
     ]
    }
   ],
   "source": [
    "bankClient.show_logs() "
   ]
  },
  {
   "cell_type": "code",
   "execution_count": 8,
   "metadata": {},
   "outputs": [
    {
     "name": "stdout",
     "output_type": "stream",
     "text": [
      "+-----------+---------+\n",
      "| Name      |   Money |\n",
      "+===========+=========+\n",
      "| Lakshya   |    6400 |\n",
      "+-----------+---------+\n",
      "| Anannya   |    7600 |\n",
      "+-----------+---------+\n",
      "| Abhimanyu |    5500 |\n",
      "+-----------+---------+\n",
      "\n"
     ]
    }
   ],
   "source": [
    "bankClient.show_all_accounts() "
   ]
  },
  {
   "cell_type": "markdown",
   "metadata": {},
   "source": [
    "## Show Database Server "
   ]
  },
  {
   "cell_type": "code",
   "execution_count": 9,
   "metadata": {},
   "outputs": [
    {
     "name": "stdout",
     "output_type": "stream",
     "text": [
      "+------+-----------+---------+--------------------+\n",
      "|   ID | Name      |   Money | Intrusion Status   |\n",
      "+======+===========+=========+====================+\n",
      "|    0 | Lakshya   |    6400 | No                 |\n",
      "+------+-----------+---------+--------------------+\n",
      "|    1 | Anannya   |    7600 | No                 |\n",
      "+------+-----------+---------+--------------------+\n",
      "|    2 | Abhimanyu |    5500 | No                 |\n",
      "+------+-----------+---------+--------------------+\n",
      "\n"
     ]
    }
   ],
   "source": [
    "bankClient.show_database()"
   ]
  },
  {
   "cell_type": "markdown",
   "metadata": {},
   "source": [
    "## Disaster Simulation"
   ]
  },
  {
   "cell_type": "code",
   "execution_count": 10,
   "metadata": {},
   "outputs": [],
   "source": [
    "import Disaster as ds\n",
    "\n",
    "disasterClient = ds.Disaster(conn1, conn2, cursor1, cursor2) "
   ]
  },
  {
   "cell_type": "markdown",
   "metadata": {},
   "source": [
    "### High Intensity Natural Disaster"
   ]
  },
  {
   "cell_type": "code",
   "execution_count": 11,
   "metadata": {},
   "outputs": [
    {
     "name": "stdout",
     "output_type": "stream",
     "text": [
      "THERE WAS AN EARTHQUAKE!\n",
      "All data was successfully backed up!\n"
     ]
    }
   ],
   "source": [
    "disasterClient.simulate_earthquake('high') "
   ]
  },
  {
   "cell_type": "code",
   "execution_count": 12,
   "metadata": {},
   "outputs": [
    {
     "name": "stdout",
     "output_type": "stream",
     "text": [
      "+------+-----------+---------+--------------------+\n",
      "|   ID | Name      |   Money | Intrusion Status   |\n",
      "+======+===========+=========+====================+\n",
      "|    0 | Lakshya   |    6400 | No                 |\n",
      "+------+-----------+---------+--------------------+\n",
      "|    1 | Anannya   |    7600 | No                 |\n",
      "+------+-----------+---------+--------------------+\n",
      "|    2 | Abhimanyu |    5500 | No                 |\n",
      "+------+-----------+---------+--------------------+\n",
      "\n"
     ]
    }
   ],
   "source": [
    "# See Backup server after Disaster \n",
    "backupClient.show_database()"
   ]
  },
  {
   "cell_type": "code",
   "execution_count": 13,
   "metadata": {},
   "outputs": [
    {
     "name": "stdout",
     "output_type": "stream",
     "text": [
      "+------+--------+---------+--------------------+\n",
      "| ID   | Name   | Money   | Intrusion Status   |\n",
      "+======+========+=========+====================+\n",
      "+------+--------+---------+--------------------+\n",
      "\n",
      "The hotsite server was completely destroyed!\n"
     ]
    }
   ],
   "source": [
    "# See Hotsite server after Disaster \n",
    "bankClient.show_database() \n",
    "print('The hotsite server was completely destroyed!') "
   ]
  },
  {
   "cell_type": "markdown",
   "metadata": {},
   "source": [
    "### Recover from High Intensity Earthquake"
   ]
  },
  {
   "cell_type": "code",
   "execution_count": 14,
   "metadata": {},
   "outputs": [
    {
     "name": "stdout",
     "output_type": "stream",
     "text": [
      "All data was successfully recovered!\n"
     ]
    }
   ],
   "source": [
    "disasterClient.recover()  "
   ]
  },
  {
   "cell_type": "markdown",
   "metadata": {},
   "source": [
    "### Low Intensity Natural Disaster"
   ]
  },
  {
   "cell_type": "code",
   "execution_count": 15,
   "metadata": {},
   "outputs": [
    {
     "name": "stdout",
     "output_type": "stream",
     "text": [
      "THERE WAS AN EARTHQUAKE!\n",
      "All data was successfully backed up!\n"
     ]
    }
   ],
   "source": [
    "disasterClient.simulate_earthquake('low') "
   ]
  },
  {
   "cell_type": "code",
   "execution_count": 16,
   "metadata": {},
   "outputs": [
    {
     "name": "stdout",
     "output_type": "stream",
     "text": [
      "+------+-----------+---------+--------------------+\n",
      "|   ID | Name      |   Money | Intrusion Status   |\n",
      "+======+===========+=========+====================+\n",
      "|    0 | Lakshya   |    6400 | No                 |\n",
      "+------+-----------+---------+--------------------+\n",
      "|    1 | Anannya   |    7600 | No                 |\n",
      "+------+-----------+---------+--------------------+\n",
      "|    2 | Abhimanyu |    5500 | No                 |\n",
      "+------+-----------+---------+--------------------+\n",
      "\n"
     ]
    }
   ],
   "source": [
    "# See Backup server after Disaster \n",
    "backupClient.show_database()"
   ]
  },
  {
   "cell_type": "code",
   "execution_count": 17,
   "metadata": {},
   "outputs": [
    {
     "name": "stdout",
     "output_type": "stream",
     "text": [
      "+------+---------+---------+--------------------+\n",
      "|   ID | Name    |   Money | Intrusion Status   |\n",
      "+======+=========+=========+====================+\n",
      "|    0 | Lakshya |    6400 | No                 |\n",
      "+------+---------+---------+--------------------+\n",
      "|    1 | Anannya |    7600 | No                 |\n",
      "+------+---------+---------+--------------------+\n",
      "\n",
      "Since low severity, we were able to save the Hotsite server to some extent!\n"
     ]
    }
   ],
   "source": [
    "# See Hotsite server after Disaster \n",
    "bankClient.show_database() \n",
    "print('Since low severity, we were able to save the Hotsite server to some extent!') "
   ]
  },
  {
   "cell_type": "markdown",
   "metadata": {},
   "source": [
    "### Recovery from Low Intensity Earthquake"
   ]
  },
  {
   "cell_type": "code",
   "execution_count": 18,
   "metadata": {},
   "outputs": [
    {
     "name": "stdout",
     "output_type": "stream",
     "text": [
      "All data was successfully recovered!\n",
      "+------+-----------+---------+--------------------+\n",
      "|   ID | Name      |   Money | Intrusion Status   |\n",
      "+======+===========+=========+====================+\n",
      "|    0 | Lakshya   |    6400 | No                 |\n",
      "+------+-----------+---------+--------------------+\n",
      "|    1 | Anannya   |    7600 | No                 |\n",
      "+------+-----------+---------+--------------------+\n",
      "|    2 | Abhimanyu |    5500 | No                 |\n",
      "+------+-----------+---------+--------------------+\n",
      "\n"
     ]
    }
   ],
   "source": [
    "disasterClient.recover() \n",
    "bankClient.show_database() "
   ]
  },
  {
   "cell_type": "markdown",
   "metadata": {},
   "source": [
    "## Info Breach"
   ]
  },
  {
   "cell_type": "markdown",
   "metadata": {},
   "source": [
    "Information Breach is a very common occurence in online systems. For our proposed Timestamping system, it was only natural that we included a DRP for handling an Info breach. For the purpose of demonstration, the DRP implementation has been shown in a way which uses a \"Detection Intrusion System\" to let us know the `id` of the person who has breached the system. That way, we can block all transactions from and to this particular person. In such a situation, our Timestamping system would output the alert, and block the account from further transactions. "
   ]
  },
  {
   "cell_type": "code",
   "execution_count": 19,
   "metadata": {},
   "outputs": [
    {
     "name": "stdout",
     "output_type": "stream",
     "text": [
      "THERE WAS AN INFORMATION BREACH by:  ('Abhimanyu',)\n"
     ]
    }
   ],
   "source": [
    "disasterClient.simulate_breach(2)"
   ]
  },
  {
   "cell_type": "code",
   "execution_count": 20,
   "metadata": {},
   "outputs": [
    {
     "name": "stdout",
     "output_type": "stream",
     "text": [
      "+------+-----------+---------+--------------------+\n",
      "|   ID | Name      |   Money | Intrusion Status   |\n",
      "+======+===========+=========+====================+\n",
      "|    0 | Lakshya   |    6400 | No                 |\n",
      "+------+-----------+---------+--------------------+\n",
      "|    1 | Anannya   |    7600 | No                 |\n",
      "+------+-----------+---------+--------------------+\n",
      "|    2 | Abhimanyu |    5500 | Yes                |\n",
      "+------+-----------+---------+--------------------+\n",
      "\n"
     ]
    }
   ],
   "source": [
    "bankClient.show_database()"
   ]
  },
  {
   "cell_type": "code",
   "execution_count": 21,
   "metadata": {},
   "outputs": [
    {
     "name": "stdout",
     "output_type": "stream",
     "text": [
      "Intruder ID:  2\n",
      "RECEIVER IS AN INTRUDER! TRANSACTION BLOCKED\n"
     ]
    }
   ],
   "source": [
    "transfer_money()"
   ]
  },
  {
   "cell_type": "code",
   "execution_count": 22,
   "metadata": {},
   "outputs": [
    {
     "name": "stdout",
     "output_type": "stream",
     "text": [
      "+------+-----------+---------+--------------------+\n",
      "|   ID | Name      |   Money | Intrusion Status   |\n",
      "+======+===========+=========+====================+\n",
      "|    0 | Lakshya   |    6400 | No                 |\n",
      "+------+-----------+---------+--------------------+\n",
      "|    1 | Anannya   |    7600 | No                 |\n",
      "+------+-----------+---------+--------------------+\n",
      "|    2 | Abhimanyu |    5500 | Yes                |\n",
      "+------+-----------+---------+--------------------+\n",
      "\n"
     ]
    }
   ],
   "source": [
    "bankClient.show_database()"
   ]
  },
  {
   "cell_type": "code",
   "execution_count": null,
   "metadata": {},
   "outputs": [],
   "source": []
  }
 ],
 "metadata": {
  "interpreter": {
   "hash": "63fd5069d213b44bf678585dea6b12cceca9941eaf7f819626cde1f2670de90d"
  },
  "kernelspec": {
   "display_name": "Python 3.9.0 64-bit",
   "name": "python3"
  },
  "language_info": {
   "codemirror_mode": {
    "name": "ipython",
    "version": 3
   },
   "file_extension": ".py",
   "mimetype": "text/x-python",
   "name": "python",
   "nbconvert_exporter": "python",
   "pygments_lexer": "ipython3",
   "version": "3.9.0"
  }
 },
 "nbformat": 4,
 "nbformat_minor": 4
}
