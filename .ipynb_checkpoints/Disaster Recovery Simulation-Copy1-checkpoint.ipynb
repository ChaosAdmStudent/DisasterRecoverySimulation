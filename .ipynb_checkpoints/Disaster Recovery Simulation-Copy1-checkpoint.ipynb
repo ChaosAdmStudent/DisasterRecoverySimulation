{
 "cells": [
  {
   "cell_type": "markdown",
   "metadata": {},
   "source": [
    "## Make Main SQL Database "
   ]
  },
  {
   "cell_type": "code",
   "execution_count": 1,
   "metadata": {},
   "outputs": [],
   "source": [
    "import pymysql\n",
    "conn1 = pymysql.connect(host='127.0.0.1',port=3306,user='root',passwd='Lakshyavit_12')\n",
    "cursor1 = conn1.cursor() \n",
    "\n",
    "# Create database \n",
    "\n",
    "# cursor1.execute('DROP DATABASE db') \n",
    "cursor1.execute('CREATE DATABASE db') \n",
    "conn1.commit()\n",
    "cursor1.close() \n",
    "conn1.close()"
   ]
  },
  {
   "cell_type": "code",
   "execution_count": 2,
   "metadata": {},
   "outputs": [],
   "source": [
    "conn1 = pymysql.connect(host='127.0.0.1',port=3306,user='root',passwd='Lakshyavit_12', db='db')\n",
    "cursor1 = conn1.cursor() \n",
    "\n",
    "# Create the table and fill in the data\n",
    "sql = '''\n",
    "create table mainbank(\n",
    "ids int(20) not null primary key comment 'account ID',\n",
    "name varchar(30) not null comment 'name', \n",
    "money int(50) not null comment 'account balance', \n",
    "intruder varchar(30) not null comment 'intrusion status'\n",
    ");\n",
    "'''\n",
    "cursor1.execute(sql)\n",
    "conn1.commit()\n",
    "cursor1.close() \n",
    "conn1.close() "
   ]
  },
  {
   "cell_type": "code",
   "execution_count": 3,
   "metadata": {},
   "outputs": [],
   "source": [
    "# Create Log Table \n",
    "\n",
    "conn1 = pymysql.connect(host='127.0.0.1',port=3306,user='root',passwd='Lakshyavit_12', db='db')\n",
    "cursor1 = conn1.cursor() \n",
    "\n",
    "sql = '''\n",
    "create table mainlog(\n",
    "sender varchar(30) not null, \n",
    "receiver varchar(30) not null, \n",
    "time_sign_start TIMESTAMP not null comment 'Timestamp of beginning transaction',\n",
    "time_sign_end TIMESTAMP not null comment 'Timestamp of end transaction'\n",
    ");\n",
    "'''\n",
    "cursor1.execute(sql)\n",
    "conn1.commit()\n",
    "cursor1.close() \n",
    "conn1.close() "
   ]
  },
  {
   "cell_type": "markdown",
   "metadata": {},
   "source": [
    "## Make BackUp Server"
   ]
  },
  {
   "cell_type": "code",
   "execution_count": 5,
   "metadata": {},
   "outputs": [],
   "source": [
    "conn2 = pymysql.connect(host='127.0.0.1',port=3306,user='root',passwd='Lakshyavit_12')\n",
    "cursor2 = conn2.cursor()  \n",
    "\n",
    "# Create database \n",
    "\n",
    "# cursor2.execute('DROP DATABASE backupdb') \n",
    "cursor2.execute('CREATE DATABASE backupdb') \n",
    "conn2.commit()\n",
    "cursor2.close() \n",
    "conn2.close() "
   ]
  },
  {
   "cell_type": "code",
   "execution_count": 6,
   "metadata": {},
   "outputs": [],
   "source": [
    "conn2 = pymysql.connect(host='127.0.0.1',port=3306,user='root',passwd='Lakshyavit_12', db='backupdb')\n",
    "cursor2 = conn2.cursor() \n",
    "\n",
    "# Create the table and fill in the data\n",
    "sql = '''\n",
    "create table backupbank(\n",
    "ids int(20) not null primary key comment 'account ID',\n",
    "name varchar(30) not null comment 'name', \n",
    "money int(50) not null comment 'account balance', \n",
    "intruder varchar(30) not null comment 'intrusion status'\n",
    ");\n",
    "'''\n",
    "cursor2.execute(sql)\n",
    "conn2.commit()\n",
    "cursor2.close() \n",
    "conn2.close() "
   ]
  },
  {
   "cell_type": "code",
   "execution_count": 7,
   "metadata": {},
   "outputs": [],
   "source": [
    "# Create Log Table \n",
    "\n",
    "conn2 = pymysql.connect(host='127.0.0.1',port=3306,user='root',passwd='Lakshyavit_12', db='backupdb')\n",
    "cursor2 = conn2.cursor() \n",
    "\n",
    "sql = '''\n",
    "create table backuplog(\n",
    "sender varchar(30) not null, \n",
    "receiver varchar(30) not null, \n",
    "time_sign_start TIMESTAMP not null comment 'Timestamp of beginning transaction',\n",
    "time_sign_end TIMESTAMP not null comment 'Timestamp of end transaction'\n",
    ");\n",
    "'''\n",
    "cursor2.execute(sql)\n",
    "conn2.commit()\n",
    "cursor2.close() \n",
    "conn2.close() "
   ]
  },
  {
   "cell_type": "markdown",
   "metadata": {},
   "source": [
    "## Make Banking Client "
   ]
  },
  {
   "cell_type": "code",
   "execution_count": 8,
   "metadata": {},
   "outputs": [],
   "source": [
    "# Bank Client\n",
    "from tabulate import tabulate \n",
    "\n",
    "class Bank(): \n",
    "    def __init__(self, conn, cursor, banktype):\n",
    "        self.conn = conn \n",
    "        self.cursor = cursor \n",
    "        self.banktype = banktype\n",
    "    \n",
    "    def make_account(self, ids, name, amount): \n",
    "        try:\n",
    "            sql = f\"INSERT INTO {self.banktype} (ids, name,money, intruder) VALUES(%s,%s,%s,%s)\"\n",
    "            self.cursor.execute(sql, (ids, name, amount,'No')) \n",
    "            self.conn.commit() \n",
    "            print('Your account was successfully made! ')  \n",
    "            \n",
    "        except Exception as e: \n",
    "            print(f'There was an error making your account: {e}') \n",
    "            self.conn.rollback() \n",
    "    \n",
    "    def get_account(self, ids): \n",
    "        try: \n",
    "            self.cursor.execute(f'SELECT * FROM {self.banktype} WHERE ids={ids}')\n",
    "            result_set = self.cursor.fetchone()\n",
    "            return result_set\n",
    "                \n",
    "        except Exception as e: \n",
    "            print(f'There was some error displaying your account: {e}')\n",
    "    \n",
    "    def show_all_accounts(self):\n",
    "        try: \n",
    "            self.cursor.execute(f'SELECT name,money FROM {self.banktype}')\n",
    "            result_set = self.cursor.fetchall()\n",
    "            mydata = [] \n",
    "            for row in result_set:\n",
    "                mydata.append([row[0], row[1]]) \n",
    "\n",
    "            head = [\"Name\", \"Money\"]\n",
    "            print(tabulate(mydata, headers=head, tablefmt=\"grid\"))\n",
    "            print()\n",
    "                \n",
    "        except Exception as e: \n",
    "            print(f'There was some error displaying your account: {e}')\n",
    "            \n",
    "    def show_database(self): \n",
    "        try: \n",
    "            self.cursor.execute(f'SELECT * FROM {self.banktype}')\n",
    "            result_set = self.cursor.fetchall()\n",
    "            mydata = [] \n",
    "            for row in result_set:\n",
    "                mydata.append([row[0], row[1], row[2],row[3]]) \n",
    "\n",
    "            head = [\"ID\", \"Name\", \"Money\", \"Intrusion Status\"]\n",
    "            print(tabulate(mydata, headers=head, tablefmt=\"grid\"))\n",
    "            print()\n",
    "                \n",
    "        except Exception as e: \n",
    "            print(f'There was some error displaying your account: {e}')\n",
    "        \n",
    "            \n",
    "    def show_logs(self): \n",
    "        try: \n",
    "            if self.banktype == 'mainbank': \n",
    "                self.cursor.execute('SELECT * from mainlog') \n",
    "            elif self.banktype == 'backupbank':\n",
    "                self.cursor.execute('SELECT * from backuplog') \n",
    "                \n",
    "            result_set = self.cursor.fetchall()\n",
    "            mydata = [] \n",
    "            for row in result_set: \n",
    "                print(row)\n",
    "                mydata.append([row[0], row[1], row[2], row[3]])\n",
    "            \n",
    "            head = [\"Sender\", \"Receiver\", \"T_Start\",\"T_End\"]\n",
    "            print(tabulate(mydata, headers=head, tablefmt=\"grid\"))\n",
    "            print()\n",
    "        \n",
    "        except Exception as e: \n",
    "            print(f'There was an error: {e}')"
   ]
  },
  {
   "cell_type": "code",
   "execution_count": 9,
   "metadata": {},
   "outputs": [],
   "source": [
    "# Transfer Client\n",
    "\n",
    "from datetime import datetime \n",
    "from time import sleep \n",
    "\n",
    "\n",
    "class TransferMoney():\n",
    "    def __init__(self,conn,cursor,A,B,money):\n",
    "        self.conn = conn\n",
    "        self.cursor = cursor\n",
    "        self.A = A\n",
    "        self.B = B\n",
    "        self.num = money\n",
    "        self.intruder_flag = False\n",
    "        \n",
    "    def transfer(self):\n",
    "        try:\n",
    "            self.cursor.execute('select money from mainbank where ids=(%s)',(self.A))\n",
    "            a = int(self.cursor.fetchone()[0])\n",
    "            self.cursor.execute('select money from mainbank where ids=(%s)',(self.B))\n",
    "            b = int(self.cursor.fetchone()[0])\n",
    "            \n",
    "            #Insufficient Balance\n",
    "            if a<self.num:\n",
    "                print('Insufficient balance, transfer failed')\n",
    "                \n",
    "            #Intruder Check\n",
    "            self.cursor.execute('SELECT ids FROM mainbank WHERE Intruder=(%s)', ('Yes'))  \n",
    "            intrusion_results = self.cursor.fetchall()\n",
    "            n = len(intrusion_results) \n",
    "        \n",
    "            if n>0:         \n",
    "                for intruder in intrusion_results: \n",
    "                    print('Intruder ID: ',intruder[0])\n",
    "                    if intruder[0] == self.A: \n",
    "                        print('SENDER IS AN INTRUDER! TRANSACTION BLOCKED') \n",
    "                        self.intruder_flag = True\n",
    "                        break \n",
    "                    if intruder[0] == self.B: \n",
    "                        print('RECEIVER IS AN INTRUDER! TRANSACTION BLOCKED') \n",
    "                        self.intruder_flag = True\n",
    "                        break \n",
    "                    else: \n",
    "                        self.intruder_flag = False \n",
    "                   \n",
    "            if not self.intruder_flag:\n",
    "                #T his is A transfer operation. Subtract the transfer amount from A's money and add the transfer amount to B's money\n",
    "                # If there is an error, enter except to perform data rollback\n",
    "                # It reflects the atomicity of the transaction. Either all or none of the transaction operations are done. \n",
    "                # If one of the statements is wrong, all of them will be rolled back         \n",
    "                \n",
    "                # Make timestamp \n",
    "                now = datetime.now() \n",
    "                timestamp_start = now.strftime(\"%Y-%m-%d %H:%M:%S\")\n",
    "                print('A sent money at:', timestamp_start)\n",
    "                \n",
    "                # To get name of the person and store it in logs \n",
    "                self.cursor.execute(f'SELECT name,money FROM mainbank WHERE ids={self.A}')\n",
    "                result_set = self.cursor.fetchone()\n",
    "                sender = result_set[0] \n",
    "                \n",
    "                self.cursor.execute(f'SELECT name,money FROM mainbank WHERE ids={self.B}')\n",
    "                result_set = self.cursor.fetchone()\n",
    "                receiver = result_set[0] \n",
    "                \n",
    "                sleep(1.5)\n",
    "                now = datetime.now() \n",
    "                timestamp_end = now.strftime(\"%Y-%m-%d %H:%M:%S\")\n",
    "                self.cursor.execute('update mainbank set money=(%s) where ids=(%s)',(a-self.num,self.A))\n",
    "                self.cursor.execute('update mainbank set money=(%s) where ids=(%s)', (b + self.num, self.B))\n",
    "                self.cursor.execute(\"INSERT INTO mainlog (sender, receiver, time_sign_start, time_sign_end) VALUES(%s,%s,%s, %s)\", (sender, receiver,timestamp_start, timestamp_end))\n",
    "                self.conn.commit() \n",
    "                print('B received money from A at:', timestamp_end)\n",
    "                print('Successful transfer')\n",
    "                \n",
    "        except Exception as e:\n",
    "            print(f'Transfer failed, transaction rolled back,Error: {e}')\n",
    "            self.conn.rollback()\n"
   ]
  },
  {
   "cell_type": "markdown",
   "metadata": {},
   "source": [
    "## Making User Accounts "
   ]
  },
  {
   "cell_type": "code",
   "execution_count": 10,
   "metadata": {},
   "outputs": [
    {
     "name": "stdout",
     "output_type": "stream",
     "text": [
      "('mainbank',)\n",
      "('mainlog',)\n"
     ]
    }
   ],
   "source": [
    "conn1 = pymysql.connect(host='127.0.0.1',port=3306,user='root',passwd='Lakshyavit_12', db='db')\n",
    "cursor1 = conn1.cursor()   \n",
    "\n",
    "cursor1.execute('SHOW tables') \n",
    "rows = cursor1.fetchall()\n",
    "for row in rows:\n",
    "    print(row)"
   ]
  },
  {
   "cell_type": "code",
   "execution_count": 11,
   "metadata": {},
   "outputs": [],
   "source": [
    "bankClient = Bank(conn1, cursor1, 'mainbank')"
   ]
  },
  {
   "cell_type": "code",
   "execution_count": 12,
   "metadata": {},
   "outputs": [
    {
     "name": "stdout",
     "output_type": "stream",
     "text": [
      "Your account was successfully made! \n",
      "Your account was successfully made! \n",
      "Your account was successfully made! \n"
     ]
    }
   ],
   "source": [
    "#Make Account\n",
    "bankClient.make_account(0, 'Lakshya', 8000) \n",
    "bankClient.make_account(1, 'Anannya', 6000) \n",
    "bankClient.make_account(2, 'Abhimanyu', 5500) "
   ]
  },
  {
   "cell_type": "code",
   "execution_count": 13,
   "metadata": {},
   "outputs": [
    {
     "name": "stdout",
     "output_type": "stream",
     "text": [
      "(0, 'Lakshya', 8000, 'No')\n",
      "(1, 'Anannya', 6000, 'No')\n",
      "(2, 'Abhimanyu', 5500, 'No')\n"
     ]
    }
   ],
   "source": [
    "# Show Accounts \n",
    "print(bankClient.get_account(0))\n",
    "print(bankClient.get_account(1))\n",
    "print(bankClient.get_account(2))"
   ]
  },
  {
   "cell_type": "markdown",
   "metadata": {},
   "source": [
    "## Transfer Funds (Timestamping Service)"
   ]
  },
  {
   "cell_type": "code",
   "execution_count": 14,
   "metadata": {},
   "outputs": [
    {
     "name": "stdout",
     "output_type": "stream",
     "text": [
      "Timestamp:  2021-12-04 21:54:52\n"
     ]
    }
   ],
   "source": [
    "# Sample of Timestamp \n",
    "\n",
    "from datetime import datetime\n",
    "\n",
    "now = datetime.now() \n",
    "date_string = now.strftime(\"%Y-%m-%d %H:%M:%S\")\n",
    "\n",
    "print('Timestamp: ', date_string)"
   ]
  },
  {
   "cell_type": "code",
   "execution_count": 15,
   "metadata": {},
   "outputs": [],
   "source": [
    "def transfer_money(): \n",
    "    \n",
    "    sender = int(input('Please enter ID of sender: ')) \n",
    "    receiver = int(input('Please enter ID of sender: ')) \n",
    "    amount = int(input('Please enter amount to be sent: '))\n",
    "    transferClient = TransferMoney(conn1, cursor1, sender, receiver, amount)\n",
    "    transferClient.transfer()"
   ]
  },
  {
   "cell_type": "code",
   "execution_count": 16,
   "metadata": {},
   "outputs": [
    {
     "name": "stdout",
     "output_type": "stream",
     "text": [
      "Please enter ID of sender: 0\n",
      "Please enter ID of sender: 1\n",
      "Please enter amount to be sent: 1700\n",
      "A sent money at: 2021-12-04 21:54:58\n",
      "B received money from A at: 2021-12-04 21:55:00\n",
      "Successful transfer\n"
     ]
    }
   ],
   "source": [
    "transfer_money() "
   ]
  },
  {
   "cell_type": "markdown",
   "metadata": {},
   "source": [
    "### Looking at the logs table"
   ]
  },
  {
   "cell_type": "code",
   "execution_count": 17,
   "metadata": {},
   "outputs": [
    {
     "name": "stdout",
     "output_type": "stream",
     "text": [
      "('Lakshya', 'Anannya', datetime.datetime(2021, 12, 4, 21, 54, 58), datetime.datetime(2021, 12, 4, 21, 55))\n",
      "+----------+------------+---------------------+---------------------+\n",
      "| Sender   | Receiver   | T_Start             | T_End               |\n",
      "+==========+============+=====================+=====================+\n",
      "| Lakshya  | Anannya    | 2021-12-04 21:54:58 | 2021-12-04 21:55:00 |\n",
      "+----------+------------+---------------------+---------------------+\n",
      "\n"
     ]
    }
   ],
   "source": [
    "bankClient.show_logs() "
   ]
  },
  {
   "cell_type": "code",
   "execution_count": 18,
   "metadata": {},
   "outputs": [
    {
     "name": "stdout",
     "output_type": "stream",
     "text": [
      "+-----------+---------+\n",
      "| Name      |   Money |\n",
      "+===========+=========+\n",
      "| Lakshya   |    6300 |\n",
      "+-----------+---------+\n",
      "| Anannya   |    7700 |\n",
      "+-----------+---------+\n",
      "| Abhimanyu |    5500 |\n",
      "+-----------+---------+\n",
      "\n"
     ]
    }
   ],
   "source": [
    "bankClient.show_all_accounts() "
   ]
  },
  {
   "cell_type": "markdown",
   "metadata": {},
   "source": [
    "## Show Database Server "
   ]
  },
  {
   "cell_type": "code",
   "execution_count": 19,
   "metadata": {},
   "outputs": [
    {
     "name": "stdout",
     "output_type": "stream",
     "text": [
      "+------+-----------+---------+--------------------+\n",
      "|   ID | Name      |   Money | Intrusion Status   |\n",
      "+======+===========+=========+====================+\n",
      "|    0 | Lakshya   |    6300 | No                 |\n",
      "+------+-----------+---------+--------------------+\n",
      "|    1 | Anannya   |    7700 | No                 |\n",
      "+------+-----------+---------+--------------------+\n",
      "|    2 | Abhimanyu |    5500 | No                 |\n",
      "+------+-----------+---------+--------------------+\n",
      "\n"
     ]
    }
   ],
   "source": [
    "bankClient.show_database()"
   ]
  },
  {
   "cell_type": "markdown",
   "metadata": {},
   "source": [
    "## Disaster Simulation"
   ]
  },
  {
   "cell_type": "code",
   "execution_count": 20,
   "metadata": {},
   "outputs": [],
   "source": [
    "from random import randint\n",
    "\n",
    "class Disaster(): \n",
    "    def __init__(self, conn1, conn2, cursor1, cursor2):\n",
    "        self.conn1 = conn1 \n",
    "        self.conn2 = conn2 \n",
    "        self.cursor1 = cursor1 \n",
    "        self.cursor2 = cursor2 \n",
    "        self.bankClient = Bank(conn1, cursor1, 'mainbank')\n",
    "        self.backupClient = Bank(conn2, cursor2, 'backupbank')\n",
    "    \n",
    "    def backup(self, severity): \n",
    "        try:\n",
    "            self.cursor2.execute(\"DELETE FROM backupbank\")\n",
    "            self.cursor1.execute(\"SELECT COUNT(*) from mainbank\")\n",
    "            n = int(self.cursor1.fetchone()[0])\n",
    "\n",
    "            for i in range(n):\n",
    "                sql = \"INSERT INTO backupbank (ids, name,money,intruder) VALUES(%s,%s,%s,%s)\"\n",
    "                self.cursor2.execute(sql, self.bankClient.get_account(i)) \n",
    "                self.conn2.commit() \n",
    "                if severity == 'high': \n",
    "                    self.cursor1.execute(\"DELETE FROM mainbank WHERE ids=(%s)\", (i))\n",
    "            \n",
    "            if severity == 'low': \n",
    "                self.cursor1.execute(\"DELETE FROM mainbank WHERE ids=(%s)\", (randint(0,n)))\n",
    "                \n",
    "            print('All data was successfully backed up!')  \n",
    "\n",
    "        except Exception as e: \n",
    "            print(f'There was an error backing up the server: {e}') \n",
    "            self.conn2.rollback() \n",
    "        \n",
    "    def recover(self): \n",
    "        try:\n",
    "            self.cursor2.execute(\"SELECT COUNT(*) from backupbank\")\n",
    "            n = int(self.cursor2.fetchone()[0]) \n",
    "            self.cursor1.execute(\"DELETE FROM mainbank\")\n",
    "            \n",
    "            for i in range(n):\n",
    "                sql = \"INSERT INTO mainbank (ids, name,money, intruder) VALUES(%s,%s,%s,%s)\"\n",
    "                self.cursor1.execute(sql, self.backupClient.get_account(i)) \n",
    "                self.conn1.commit() \n",
    "            print('All data was successfully recovered!')  \n",
    "            \n",
    "        except Exception as e: \n",
    "            print(f'There was an error recovering from backup site: {e}') \n",
    "            self.conn1.rollback()  \n",
    "    \n",
    "    def simulate_earthquake(self, severity): \n",
    "        print('THERE WAS AN EARTHQUAKE!') \n",
    "        Disaster.backup(self, severity)  \n",
    "        \n",
    "    def simulate_breach(self, intruder): \n",
    "        self.cursor1.execute('SELECT name from mainbank WHERE ids=(%s)',(intruder)) \n",
    "        intruder_name = self.cursor1.fetchone() \n",
    "        print('THERE WAS AN INFORMATION BREACH by: ',intruder_name)\n",
    "        self.cursor1.execute('update mainbank set intruder=(%s) where ids=(%s)',('Yes',intruder))\n",
    "        self.cursor2.execute('update backupbank set intruder=(%s) where ids=(%s)',('Yes',intruder))\n",
    "        "
   ]
  },
  {
   "cell_type": "code",
   "execution_count": 21,
   "metadata": {},
   "outputs": [],
   "source": [
    "conn1 = pymysql.connect(host='127.0.0.1',port=3306,user='root',passwd='Lakshyavit_12', db='db')\n",
    "cursor1 = conn1.cursor()   \n",
    "conn2 = pymysql.connect(host='127.0.0.1',port=3306,user='root',passwd='Lakshyavit_12', db='backupdb')\n",
    "cursor2 = conn2.cursor() \n",
    "\n",
    "disasterClient = Disaster(conn1, conn2, cursor1, cursor2) "
   ]
  },
  {
   "cell_type": "code",
   "execution_count": 22,
   "metadata": {},
   "outputs": [],
   "source": [
    "# Seeing both servers\n",
    "backupClient = Bank(conn2, cursor2, 'backupbank')\n",
    "bankClient = Bank(conn1, cursor1, 'mainbank')"
   ]
  },
  {
   "cell_type": "markdown",
   "metadata": {},
   "source": [
    "### High Intensity Natural Disaster"
   ]
  },
  {
   "cell_type": "code",
   "execution_count": 23,
   "metadata": {},
   "outputs": [
    {
     "name": "stdout",
     "output_type": "stream",
     "text": [
      "THERE WAS AN EARTHQUAKE!\n",
      "All data was successfully backed up!\n"
     ]
    }
   ],
   "source": [
    "disasterClient.simulate_earthquake('high') "
   ]
  },
  {
   "cell_type": "code",
   "execution_count": 24,
   "metadata": {},
   "outputs": [
    {
     "name": "stdout",
     "output_type": "stream",
     "text": [
      "+------+-----------+---------+--------------------+\n",
      "|   ID | Name      |   Money | Intrusion Status   |\n",
      "+======+===========+=========+====================+\n",
      "|    0 | Lakshya   |    6300 | No                 |\n",
      "+------+-----------+---------+--------------------+\n",
      "|    1 | Anannya   |    7700 | No                 |\n",
      "+------+-----------+---------+--------------------+\n",
      "|    2 | Abhimanyu |    5500 | No                 |\n",
      "+------+-----------+---------+--------------------+\n",
      "\n"
     ]
    }
   ],
   "source": [
    "# See Backup server after Disaster \n",
    "backupClient.show_database()"
   ]
  },
  {
   "cell_type": "code",
   "execution_count": 25,
   "metadata": {},
   "outputs": [
    {
     "name": "stdout",
     "output_type": "stream",
     "text": [
      "+------+--------+---------+--------------------+\n",
      "| ID   | Name   | Money   | Intrusion Status   |\n",
      "+======+========+=========+====================+\n",
      "+------+--------+---------+--------------------+\n",
      "\n",
      "The hotsite server was completely destroyed!\n"
     ]
    }
   ],
   "source": [
    "# See Hotsite server after Disaster \n",
    "bankClient.show_database() \n",
    "print('The hotsite server was completely destroyed!') "
   ]
  },
  {
   "cell_type": "markdown",
   "metadata": {},
   "source": [
    "### Recover from High Intensity Earthquake"
   ]
  },
  {
   "cell_type": "code",
   "execution_count": 26,
   "metadata": {},
   "outputs": [
    {
     "name": "stdout",
     "output_type": "stream",
     "text": [
      "All data was successfully recovered!\n"
     ]
    }
   ],
   "source": [
    "disasterClient.recover()  "
   ]
  },
  {
   "cell_type": "markdown",
   "metadata": {},
   "source": [
    "### Low Intensity Natural Disaster"
   ]
  },
  {
   "cell_type": "code",
   "execution_count": 27,
   "metadata": {},
   "outputs": [
    {
     "name": "stdout",
     "output_type": "stream",
     "text": [
      "THERE WAS AN EARTHQUAKE!\n",
      "All data was successfully backed up!\n"
     ]
    }
   ],
   "source": [
    "disasterClient.simulate_earthquake('low') "
   ]
  },
  {
   "cell_type": "code",
   "execution_count": 28,
   "metadata": {},
   "outputs": [
    {
     "name": "stdout",
     "output_type": "stream",
     "text": [
      "+------+-----------+---------+--------------------+\n",
      "|   ID | Name      |   Money | Intrusion Status   |\n",
      "+======+===========+=========+====================+\n",
      "|    0 | Lakshya   |    6300 | No                 |\n",
      "+------+-----------+---------+--------------------+\n",
      "|    1 | Anannya   |    7700 | No                 |\n",
      "+------+-----------+---------+--------------------+\n",
      "|    2 | Abhimanyu |    5500 | No                 |\n",
      "+------+-----------+---------+--------------------+\n",
      "\n"
     ]
    }
   ],
   "source": [
    "# See Backup server after Disaster \n",
    "backupClient.show_database()"
   ]
  },
  {
   "cell_type": "code",
   "execution_count": 29,
   "metadata": {},
   "outputs": [
    {
     "name": "stdout",
     "output_type": "stream",
     "text": [
      "+------+-----------+---------+--------------------+\n",
      "|   ID | Name      |   Money | Intrusion Status   |\n",
      "+======+===========+=========+====================+\n",
      "|    0 | Lakshya   |    6300 | No                 |\n",
      "+------+-----------+---------+--------------------+\n",
      "|    2 | Abhimanyu |    5500 | No                 |\n",
      "+------+-----------+---------+--------------------+\n",
      "\n",
      "Since low severity, we were able to save the Hotsite server to some extent!\n"
     ]
    }
   ],
   "source": [
    "# See Hotsite server after Disaster \n",
    "bankClient.show_database() \n",
    "print('Since low severity, we were able to save the Hotsite server to some extent!') "
   ]
  },
  {
   "cell_type": "markdown",
   "metadata": {},
   "source": [
    "### Recovery from Low Intensity Earthquake"
   ]
  },
  {
   "cell_type": "code",
   "execution_count": 30,
   "metadata": {},
   "outputs": [
    {
     "name": "stdout",
     "output_type": "stream",
     "text": [
      "All data was successfully recovered!\n",
      "+------+-----------+---------+--------------------+\n",
      "|   ID | Name      |   Money | Intrusion Status   |\n",
      "+======+===========+=========+====================+\n",
      "|    0 | Lakshya   |    6300 | No                 |\n",
      "+------+-----------+---------+--------------------+\n",
      "|    1 | Anannya   |    7700 | No                 |\n",
      "+------+-----------+---------+--------------------+\n",
      "|    2 | Abhimanyu |    5500 | No                 |\n",
      "+------+-----------+---------+--------------------+\n",
      "\n"
     ]
    }
   ],
   "source": [
    "disasterClient.recover() \n",
    "bankClient.show_database() "
   ]
  },
  {
   "cell_type": "markdown",
   "metadata": {},
   "source": [
    "## Info Breach"
   ]
  },
  {
   "cell_type": "markdown",
   "metadata": {},
   "source": [
    "Information Breach is a very common occurence in online systems. For our proposed Timestamping system, it was only natural that we included a DRP for handling an Info breach. For the purpose of demonstration, the DRP implementation has been shown in a way which uses a \"Detection Intrusion System\" to let us know the `id` of the person who has breached the system. That way, we can block all transactions from and to this particular person. In such a situation, our Timestamping system would output the alert, and block the account from further transactions. "
   ]
  },
  {
   "cell_type": "code",
   "execution_count": 31,
   "metadata": {},
   "outputs": [
    {
     "name": "stdout",
     "output_type": "stream",
     "text": [
      "THERE WAS AN INFORMATION BREACH by:  ('Abhimanyu',)\n"
     ]
    }
   ],
   "source": [
    "disasterClient.simulate_breach(2)"
   ]
  },
  {
   "cell_type": "code",
   "execution_count": 32,
   "metadata": {},
   "outputs": [],
   "source": [
    "# Updating both servers\n",
    "backupClient = Bank(conn2, cursor2, 'backupbank')\n",
    "bankClient = Bank(conn1, cursor1, 'mainbank')"
   ]
  },
  {
   "cell_type": "code",
   "execution_count": 33,
   "metadata": {},
   "outputs": [
    {
     "name": "stdout",
     "output_type": "stream",
     "text": [
      "+------+-----------+---------+--------------------+\n",
      "|   ID | Name      |   Money | Intrusion Status   |\n",
      "+======+===========+=========+====================+\n",
      "|    0 | Lakshya   |    6300 | No                 |\n",
      "+------+-----------+---------+--------------------+\n",
      "|    1 | Anannya   |    7700 | No                 |\n",
      "+------+-----------+---------+--------------------+\n",
      "|    2 | Abhimanyu |    5500 | Yes                |\n",
      "+------+-----------+---------+--------------------+\n",
      "\n"
     ]
    }
   ],
   "source": [
    "bankClient.show_database()"
   ]
  },
  {
   "cell_type": "code",
   "execution_count": 34,
   "metadata": {},
   "outputs": [
    {
     "name": "stdout",
     "output_type": "stream",
     "text": [
      "Please enter ID of sender: 0\n",
      "Please enter ID of sender: 2\n",
      "Please enter amount to be sent: 800\n",
      "Intruder ID:  2\n",
      "RECEIVER IS AN INTRUDER! TRANSACTION BLOCKED\n"
     ]
    }
   ],
   "source": [
    "transfer_money()"
   ]
  },
  {
   "cell_type": "code",
   "execution_count": 35,
   "metadata": {},
   "outputs": [
    {
     "name": "stdout",
     "output_type": "stream",
     "text": [
      "+------+-----------+---------+--------------------+\n",
      "|   ID | Name      |   Money | Intrusion Status   |\n",
      "+======+===========+=========+====================+\n",
      "|    0 | Lakshya   |    6300 | No                 |\n",
      "+------+-----------+---------+--------------------+\n",
      "|    1 | Anannya   |    7700 | No                 |\n",
      "+------+-----------+---------+--------------------+\n",
      "|    2 | Abhimanyu |    5500 | Yes                |\n",
      "+------+-----------+---------+--------------------+\n",
      "\n"
     ]
    }
   ],
   "source": [
    "bankClient.show_database()"
   ]
  },
  {
   "cell_type": "code",
   "execution_count": null,
   "metadata": {},
   "outputs": [],
   "source": []
  }
 ],
 "metadata": {
  "kernelspec": {
   "display_name": "Python 3",
   "language": "python",
   "name": "python3"
  },
  "language_info": {
   "codemirror_mode": {
    "name": "ipython",
    "version": 3
   },
   "file_extension": ".py",
   "mimetype": "text/x-python",
   "name": "python",
   "nbconvert_exporter": "python",
   "pygments_lexer": "ipython3",
   "version": "3.7.6"
  }
 },
 "nbformat": 4,
 "nbformat_minor": 4
}
